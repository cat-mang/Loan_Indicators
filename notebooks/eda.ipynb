{
 "cells": [
  {
   "cell_type": "code",
   "execution_count": 1,
   "metadata": {},
   "outputs": [],
   "source": [
    "import pandas as pd\n",
    "import numpy as np\n",
    "import matplotlib.pyplot as plt\n",
    "import seaborn as sns"
   ]
  },
  {
   "cell_type": "code",
   "execution_count": 2,
   "metadata": {},
   "outputs": [
    {
     "data": {
      "text/plain": [
       "'/Users/catherinefuller/galvanize/daimil10/projects/Mid_Term/Loan_Indicators/notebooks'"
      ]
     },
     "execution_count": 2,
     "metadata": {},
     "output_type": "execute_result"
    }
   ],
   "source": [
    "pwd"
   ]
  },
  {
   "cell_type": "code",
   "execution_count": 3,
   "metadata": {},
   "outputs": [],
   "source": [
    "loan_df = pd.read_csv(\"/Users/catherinefuller/galvanize/daimil10/projects/Mid_Term/Loan_Indicators/data/loan_data_1.csv\")"
   ]
  },
  {
   "cell_type": "code",
   "execution_count": 4,
   "metadata": {},
   "outputs": [
    {
     "name": "stdout",
     "output_type": "stream",
     "text": [
      "<class 'pandas.core.frame.DataFrame'>\n",
      "RangeIndex: 381 entries, 0 to 380\n",
      "Data columns (total 14 columns):\n",
      " #   Column             Non-Null Count  Dtype  \n",
      "---  ------             --------------  -----  \n",
      " 0   Unnamed: 0         381 non-null    int64  \n",
      " 1   Loan_ID            381 non-null    object \n",
      " 2   Gender             376 non-null    object \n",
      " 3   Married            381 non-null    object \n",
      " 4   Dependents         373 non-null    object \n",
      " 5   Education          375 non-null    object \n",
      " 6   Self_Employed      360 non-null    object \n",
      " 7   ApplicantIncome    369 non-null    float64\n",
      " 8   CoapplicantIncome  363 non-null    float64\n",
      " 9   LoanAmount         373 non-null    float64\n",
      " 10  Loan_Amount_Term   370 non-null    float64\n",
      " 11  Credit_History     351 non-null    float64\n",
      " 12  Property_Area      381 non-null    object \n",
      " 13  Loan_Status        381 non-null    object \n",
      "dtypes: float64(5), int64(1), object(8)\n",
      "memory usage: 41.8+ KB\n"
     ]
    }
   ],
   "source": [
    "#Find number of columns and rows\n",
    "loan_df.info()"
   ]
  }
 ],
 "metadata": {
  "kernelspec": {
   "display_name": "base",
   "language": "python",
   "name": "python3"
  },
  "language_info": {
   "codemirror_mode": {
    "name": "ipython",
    "version": 3
   },
   "file_extension": ".py",
   "mimetype": "text/x-python",
   "name": "python",
   "nbconvert_exporter": "python",
   "pygments_lexer": "ipython3",
   "version": "3.11.5"
  }
 },
 "nbformat": 4,
 "nbformat_minor": 2
}
